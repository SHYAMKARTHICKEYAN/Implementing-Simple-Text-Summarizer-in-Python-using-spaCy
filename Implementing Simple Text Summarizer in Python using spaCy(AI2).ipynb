{
  "cells": [
    {
      "cell_type": "markdown",
      "id": "fc89e941",
      "metadata": {
        "papermill": {
          "duration": 0.011147,
          "end_time": "2022-09-25T16:03:45.356968",
          "exception": false,
          "start_time": "2022-09-25T16:03:45.345821",
          "status": "completed"
        },
        "tags": [],
        "id": "fc89e941"
      },
      "source": [
        "## <center>Implementing Simple Text Summarizer in Python using spaCy</center>\n",
        "<center> <b>A step-by-step guide to summarizing text using NLP</b> </center> \n",
        "\n",
        "#### <center>September 2022 </center>"
      ]
    },
    {
      "cell_type": "markdown",
      "id": "a7affb48",
      "metadata": {
        "papermill": {
          "duration": 0.008707,
          "end_time": "2022-09-25T16:03:45.374894",
          "exception": false,
          "start_time": "2022-09-25T16:03:45.366187",
          "status": "completed"
        },
        "tags": [],
        "id": "a7affb48"
      },
      "source": [
        "![mainImage.jpeg](attachment:mainImage.jpeg)\n",
        "<center>source : Image by mohamed Hassan from Pixabay</center>"
      ]
    },
    {
      "cell_type": "markdown",
      "id": "d0a5da72",
      "metadata": {
        "papermill": {
          "duration": 0.011965,
          "end_time": "2022-09-25T16:03:45.396940",
          "exception": false,
          "start_time": "2022-09-25T16:03:45.384975",
          "status": "completed"
        },
        "tags": [],
        "id": "d0a5da72"
      },
      "source": [
        "## Overview\n",
        "\n",
        "Daily, we read a lot of articles, most of which are textual and consume a lot of our time. It is possible that there will be an article with 10,000 words and maybe the important points will be just 20 or 30 and that will be sufficient for us to grasp those whole article.\n",
        "\n",
        "So the idea behind this automatic text summarization is to find all those useful information out of huge amount of text through natural language processing (NLP)."
      ]
    },
    {
      "cell_type": "markdown",
      "id": "59302ffa",
      "metadata": {
        "papermill": {
          "duration": 0.008995,
          "end_time": "2022-09-25T16:03:45.417768",
          "exception": false,
          "start_time": "2022-09-25T16:03:45.408773",
          "status": "completed"
        },
        "tags": [],
        "id": "59302ffa"
      },
      "source": [
        "## What is the purpose of Text Summarization in NLP?\n",
        "According to Mehdi Allahyari et al., Text Summarization Techniques: A Brief Survey, 2017,\n",
        "<code><b>\"Automatic text summarization is the task of producing a concise and fluent summary while preserving key information content and overall meaning\"</b></code>"
      ]
    },
    {
      "cell_type": "markdown",
      "id": "4b4d3100",
      "metadata": {
        "papermill": {
          "duration": 0.012669,
          "end_time": "2022-09-25T16:03:45.444824",
          "exception": false,
          "start_time": "2022-09-25T16:03:45.432155",
          "status": "completed"
        },
        "tags": [],
        "id": "4b4d3100"
      },
      "source": [
        "In general, two different approaches are used for text summarization:\n",
        "#### 1. Extractive Summarization\n",
        "\n",
        "Only the most important sentences or phrases are extracted from the original text."
      ]
    },
    {
      "cell_type": "markdown",
      "id": "879322be",
      "metadata": {
        "papermill": {
          "duration": 0.012629,
          "end_time": "2022-09-25T16:03:45.470553",
          "exception": false,
          "start_time": "2022-09-25T16:03:45.457924",
          "status": "completed"
        },
        "tags": [],
        "id": "879322be"
      },
      "source": [
        "![Extractive.jpg](attachment:Extractive.jpg)"
      ]
    },
    {
      "cell_type": "markdown",
      "id": "a200803b",
      "metadata": {
        "papermill": {
          "duration": 0.008524,
          "end_time": "2022-09-25T16:03:45.489857",
          "exception": false,
          "start_time": "2022-09-25T16:03:45.481333",
          "status": "completed"
        },
        "tags": [],
        "id": "a200803b"
      },
      "source": [
        "#### 2. Abstractive Summarization\n",
        "\n",
        "It is the opposite of extractive summarization, in which an exact sentence is used to generate new sentences summary by identifying the most important information of the original group of sentences. It is possible that these new sentences summary do not appear in the original sentences."
      ]
    },
    {
      "cell_type": "markdown",
      "id": "f795db5c",
      "metadata": {
        "papermill": {
          "duration": 0.008364,
          "end_time": "2022-09-25T16:03:45.506865",
          "exception": false,
          "start_time": "2022-09-25T16:03:45.498501",
          "status": "completed"
        },
        "tags": [],
        "id": "f795db5c"
      },
      "source": [
        "![Abstractive.jpg](attachment:Abstractive.jpg)"
      ]
    },
    {
      "cell_type": "markdown",
      "id": "c8f90e15",
      "metadata": {
        "papermill": {
          "duration": 0.008448,
          "end_time": "2022-09-25T16:03:45.523957",
          "exception": false,
          "start_time": "2022-09-25T16:03:45.515509",
          "status": "completed"
        },
        "tags": [],
        "id": "c8f90e15"
      },
      "source": [
        "So, in this article, we will try to learn very simple approach <code><b>Extractive Summarization</b></code>."
      ]
    },
    {
      "cell_type": "markdown",
      "id": "e28db969",
      "metadata": {
        "papermill": {
          "duration": 0.008394,
          "end_time": "2022-09-25T16:03:45.541037",
          "exception": false,
          "start_time": "2022-09-25T16:03:45.532643",
          "status": "completed"
        },
        "tags": [],
        "id": "e28db969"
      },
      "source": [
        "## What is spaCy?\n",
        "<code><b>spaCy</b></code> is an open-source software library for advanced natural language processing, written in the programming languages Python and Cython (Source : wikipedia).\n",
        "\n",
        "## <span style='color:rgb(205, 0, 153)'>So, let's get started</span> 🧑👈🙏💪\n",
        "\n",
        "We will follow the simple steps for Text Summarization:\n",
        "\n",
        "### 1) Install Prerequisites"
      ]
    },
    {
      "cell_type": "code",
      "execution_count": null,
      "id": "6d66c04a",
      "metadata": {
        "execution": {
          "iopub.execute_input": "2022-09-25T16:03:45.560250Z",
          "iopub.status.busy": "2022-09-25T16:03:45.559737Z",
          "iopub.status.idle": "2022-09-25T16:03:45.565494Z",
          "shell.execute_reply": "2022-09-25T16:03:45.564477Z"
        },
        "papermill": {
          "duration": 0.018257,
          "end_time": "2022-09-25T16:03:45.567750",
          "exception": false,
          "start_time": "2022-09-25T16:03:45.549493",
          "status": "completed"
        },
        "tags": [],
        "id": "6d66c04a"
      },
      "outputs": [],
      "source": [
        "################################################################################################################################\n",
        "# Installing spaCy library and downloading small model (uncomment if you want to install)\n",
        "################################################################################################################################\n",
        "\n",
        "#!pip install -U spacy\n",
        "#!python -m spacy download en_core_web_sm"
      ]
    },
    {
      "cell_type": "markdown",
      "id": "b8cf49c8",
      "metadata": {
        "papermill": {
          "duration": 0.008441,
          "end_time": "2022-09-25T16:03:45.584991",
          "exception": false,
          "start_time": "2022-09-25T16:03:45.576550",
          "status": "completed"
        },
        "tags": [],
        "id": "b8cf49c8"
      },
      "source": [
        "### 2) Importing required libraries"
      ]
    },
    {
      "cell_type": "code",
      "execution_count": 1,
      "id": "3a5c391a",
      "metadata": {
        "execution": {
          "iopub.execute_input": "2022-09-25T16:03:45.604339Z",
          "iopub.status.busy": "2022-09-25T16:03:45.603673Z",
          "iopub.status.idle": "2022-09-25T16:03:57.585975Z",
          "shell.execute_reply": "2022-09-25T16:03:57.584829Z"
        },
        "papermill": {
          "duration": 11.995159,
          "end_time": "2022-09-25T16:03:57.588843",
          "exception": false,
          "start_time": "2022-09-25T16:03:45.593684",
          "status": "completed"
        },
        "tags": [],
        "colab": {
          "base_uri": "https://localhost:8080/"
        },
        "id": "3a5c391a",
        "outputId": "640f7926-b7fe-43b2-db8a-17e3d8c8c3f3"
      },
      "outputs": [
        {
          "output_type": "stream",
          "name": "stderr",
          "text": [
            "/usr/local/lib/python3.8/dist-packages/torch/cuda/__init__.py:497: UserWarning: Can't initialize NVML\n",
            "  warnings.warn(\"Can't initialize NVML\")\n"
          ]
        }
      ],
      "source": [
        "import spacy\n",
        "from spacy.lang.en.stop_words import STOP_WORDS\n",
        "from string import punctuation\n",
        "from heapq import nlargest"
      ]
    },
    {
      "cell_type": "markdown",
      "id": "e1264a16",
      "metadata": {
        "papermill": {
          "duration": 0.009946,
          "end_time": "2022-09-25T16:03:57.608325",
          "exception": false,
          "start_time": "2022-09-25T16:03:57.598379",
          "status": "completed"
        },
        "tags": [],
        "id": "e1264a16"
      },
      "source": [
        "### 3) Input text\n",
        "\n",
        "Input text taken from an article titled Microsoft Launches Intelligent Cloud Hub To Upskill Students In AI & Cloud Technologies."
      ]
    },
    {
      "cell_type": "code",
      "execution_count": 2,
      "id": "850e5bf2",
      "metadata": {
        "execution": {
          "iopub.execute_input": "2022-09-25T16:03:57.629858Z",
          "iopub.status.busy": "2022-09-25T16:03:57.628403Z",
          "iopub.status.idle": "2022-09-25T16:03:57.636129Z",
          "shell.execute_reply": "2022-09-25T16:03:57.635219Z"
        },
        "papermill": {
          "duration": 0.020901,
          "end_time": "2022-09-25T16:03:57.638767",
          "exception": false,
          "start_time": "2022-09-25T16:03:57.617866",
          "status": "completed"
        },
        "tags": [],
        "colab": {
          "base_uri": "https://localhost:8080/"
        },
        "id": "850e5bf2",
        "outputId": "82fb488b-4800-4174-9e59-9f0a7f0de906"
      },
      "outputs": [
        {
          "output_type": "stream",
          "name": "stdout",
          "text": [
            "Length of original text: 2013\n"
          ]
        }
      ],
      "source": [
        "text = \"\"\"\"In an attempt to build an AI-ready workforce, Microsoft announced Intelligent Cloud Hub which has been lanched to empower the next generation of students with AI-ready skills. Envisioned as a three-year collaborative program, Intelligent Cloud Hub will support around 100 institutions with AI infrastructure, course content and curriculum, developer support, development tools and give students access to cloud and AI services. As part of the program, the Redmond giant which wants to expand its reach and is planning to build a strong developer ecosystem in India with the program will set up the core AI infrastructure and IoT Hub for the selected campuses. The company will provide AI development tools and Azure AI services such as Microsoft Cognitive Services, Bot Services and Azure Machine Learning.According to Manish Prakash, Country General Manager-PS, Health and Education, Microsoft India, said, With AI being the defining technology of our time, it is transforming lives and industry and the jobs of tomorrow will require a different skillset. This will require more collaborations and training and working with AI. That’s why it has become more critical than ever for educational institutions to integrate new cloud and AI technologies. The program is an attempt to ramp up the institutional set-up and build capabilities among the educators to educate the workforce of tomorrow. The program aims to build up the cognitive skills and in-depth understanding of developing intelligent cloud connected solutions for applications across industry. Earlier in April this year, the company announced Microsoft Professional Program In AI as a learning track open to the public. The program was developed to provide job ready skills to programmers who wanted to hone their skills in AI and data science with a series of online courses which featured hands-on labs and expert instructors as well. This program also included developer-focused AI school that provided a bunch of assets to help build AI skills.\"\"\"\n",
        "\n",
        "print(\"Length of original text:\",len(text))"
      ]
    },
    {
      "cell_type": "markdown",
      "id": "960b9830",
      "metadata": {
        "papermill": {
          "duration": 0.00912,
          "end_time": "2022-09-25T16:03:57.657029",
          "exception": false,
          "start_time": "2022-09-25T16:03:57.647909",
          "status": "completed"
        },
        "tags": [],
        "id": "960b9830"
      },
      "source": [
        "### 4) Defining the textSummarizer function"
      ]
    },
    {
      "cell_type": "code",
      "execution_count": 3,
      "id": "96960c2c",
      "metadata": {
        "execution": {
          "iopub.execute_input": "2022-09-25T16:03:57.678354Z",
          "iopub.status.busy": "2022-09-25T16:03:57.677502Z",
          "iopub.status.idle": "2022-09-25T16:03:57.690022Z",
          "shell.execute_reply": "2022-09-25T16:03:57.688949Z"
        },
        "papermill": {
          "duration": 0.025704,
          "end_time": "2022-09-25T16:03:57.692300",
          "exception": false,
          "start_time": "2022-09-25T16:03:57.666596",
          "status": "completed"
        },
        "tags": [],
        "id": "96960c2c"
      },
      "outputs": [],
      "source": [
        "################################################################################################################################\n",
        "# Defining the textSummarizer function\n",
        "################################################################################################################################\n",
        "def textSummarizer(text, percentage):\n",
        "    \n",
        "    # load the model into spaCy\n",
        "    nlp = spacy.load('en_core_web_sm')\n",
        "    \n",
        "    # pass the text into the nlp function\n",
        "    doc= nlp(text)\n",
        "    \n",
        "    ## The score of each word is kept in a frequency table\n",
        "    tokens=[token.text for token in doc]\n",
        "    freq_of_word=dict()\n",
        "    \n",
        "    # Text cleaning and vectorization \n",
        "    for word in doc:\n",
        "        if word.text.lower() not in list(STOP_WORDS):\n",
        "            if word.text.lower() not in punctuation:\n",
        "                if word.text not in freq_of_word.keys():\n",
        "                    freq_of_word[word.text] = 1\n",
        "                else:\n",
        "                    freq_of_word[word.text] += 1\n",
        "                    \n",
        "    # Maximum frequency of word\n",
        "    max_freq=max(freq_of_word.values())\n",
        "    \n",
        "    # Normalization of word frequency\n",
        "    for word in freq_of_word.keys():\n",
        "        freq_of_word[word]=freq_of_word[word]/max_freq\n",
        "        \n",
        "    # In this part, each sentence is weighed based on how often it contains the token.\n",
        "    sent_tokens= [sent for sent in doc.sents]\n",
        "    sent_scores = dict()\n",
        "    for sent in sent_tokens:\n",
        "        for word in sent:\n",
        "            if word.text.lower() in freq_of_word.keys():\n",
        "                if sent not in sent_scores.keys():                            \n",
        "                    sent_scores[sent]=freq_of_word[word.text.lower()]\n",
        "                else:\n",
        "                    sent_scores[sent]+=freq_of_word[word.text.lower()]\n",
        "    \n",
        "    \n",
        "    len_tokens=int(len(sent_tokens)*percentage)\n",
        "    \n",
        "    # Summary for the sentences with maximum score. Here, each sentence in the list is of spacy.span type\n",
        "    summary = nlargest(n = len_tokens, iterable = sent_scores,key=sent_scores.get)\n",
        "    \n",
        "    # Prepare for final summary\n",
        "    final_summary=[word.text for word in summary]\n",
        "    \n",
        "    #convert to a string\n",
        "    summary=\" \".join(final_summary)\n",
        "    \n",
        "    # Return final summary\n",
        "    return summary"
      ]
    },
    {
      "cell_type": "markdown",
      "id": "7b049f20",
      "metadata": {
        "papermill": {
          "duration": 0.009936,
          "end_time": "2022-09-25T16:03:57.711507",
          "exception": false,
          "start_time": "2022-09-25T16:03:57.701571",
          "status": "completed"
        },
        "tags": [],
        "id": "7b049f20"
      },
      "source": [
        "### 5) Calling the textSummarizer with two arguments (input, percentage of summary)"
      ]
    },
    {
      "cell_type": "code",
      "execution_count": 4,
      "id": "70f73680",
      "metadata": {
        "execution": {
          "iopub.execute_input": "2022-09-25T16:03:57.732485Z",
          "iopub.status.busy": "2022-09-25T16:03:57.731288Z",
          "iopub.status.idle": "2022-09-25T16:03:58.724775Z",
          "shell.execute_reply": "2022-09-25T16:03:58.723528Z"
        },
        "papermill": {
          "duration": 1.007493,
          "end_time": "2022-09-25T16:03:58.728087",
          "exception": false,
          "start_time": "2022-09-25T16:03:57.720594",
          "status": "completed"
        },
        "tags": [],
        "id": "70f73680"
      },
      "outputs": [],
      "source": [
        "################################################################################################################################\n",
        "# Calling the textSummarizer with two arguments (input, percentage of summary)\n",
        "################################################################################################################################\n",
        "final_summary = textSummarizer(text, 0.2)"
      ]
    },
    {
      "cell_type": "markdown",
      "id": "c2173a9b",
      "metadata": {
        "papermill": {
          "duration": 0.008592,
          "end_time": "2022-09-25T16:03:58.745858",
          "exception": false,
          "start_time": "2022-09-25T16:03:58.737266",
          "status": "completed"
        },
        "tags": [],
        "id": "c2173a9b"
      },
      "source": [
        "### 6) Getting the summary"
      ]
    },
    {
      "cell_type": "code",
      "execution_count": 5,
      "id": "5ff58aff",
      "metadata": {
        "execution": {
          "iopub.execute_input": "2022-09-25T16:03:58.765942Z",
          "iopub.status.busy": "2022-09-25T16:03:58.765507Z",
          "iopub.status.idle": "2022-09-25T16:03:58.772475Z",
          "shell.execute_reply": "2022-09-25T16:03:58.771457Z"
        },
        "papermill": {
          "duration": 0.019713,
          "end_time": "2022-09-25T16:03:58.774892",
          "exception": false,
          "start_time": "2022-09-25T16:03:58.755179",
          "status": "completed"
        },
        "tags": [],
        "colab": {
          "base_uri": "https://localhost:8080/"
        },
        "id": "5ff58aff",
        "outputId": "8b9780d2-6f7c-41a2-db91-362f6a26cfb3"
      },
      "outputs": [
        {
          "output_type": "stream",
          "name": "stdout",
          "text": [
            "##################################################\n",
            "Summary of the text\n",
            "Length of summarized text: 468\n",
            "##################################################\n",
            "\n",
            "Envisioned as a three-year collaborative program, Intelligent Cloud Hub will support around 100 institutions with AI infrastructure, course content and curriculum, developer support, development tools and give students access to cloud and AI services. The program was developed to provide job ready skills to programmers who wanted to hone their skills in AI and data science with a series of online courses which featured hands-on labs and expert instructors as well.\n"
          ]
        }
      ],
      "source": [
        "################################################################################################################################\n",
        "# Output\n",
        "################################################################################################################################\n",
        "print(\"#\"*50)\n",
        "print(\"Summary of the text\")\n",
        "print(\"Length of summarized text:\",len(final_summary))\n",
        "print(\"#\"*50)\n",
        "print()\n",
        "print(final_summary)"
      ]
    },
    {
      "cell_type": "markdown",
      "id": "73b186a8",
      "metadata": {
        "papermill": {
          "duration": 0.008745,
          "end_time": "2022-09-25T16:03:58.792675",
          "exception": false,
          "start_time": "2022-09-25T16:03:58.783930",
          "status": "completed"
        },
        "tags": [],
        "id": "73b186a8"
      },
      "source": [
        "### Conclusion\n",
        "You can dramatically increase your productivity by minimizing the time you spend reading. Natural language processing can streamline your reading experience whether you're reading textbooks, news, reports, or academic journals."
      ]
    },
    {
      "cell_type": "markdown",
      "id": "23048fcf",
      "metadata": {
        "papermill": {
          "duration": 0.008658,
          "end_time": "2022-09-25T16:03:58.810198",
          "exception": false,
          "start_time": "2022-09-25T16:03:58.801540",
          "status": "completed"
        },
        "tags": [],
        "id": "23048fcf"
      },
      "source": [
        "<span style='color:rgb(205, 0, 153)'>__Many thanks for reading my kernal!__🙏\n",
        "\n",
        "<span style='color:rgb(205, 0, 153)'>__Please leave a comment if you have any suggestions for improving the analysis!__🏋🥇\n",
        "\n",
        "<span style='color:rgb(0,204,0)'>__If you liked 😊 my kernel, give 👍 UPVOTE!__\n",
        "\n",
        "<span style='color:rgb(205, 0, 153)'>__If you have a moment, I encourage you to see my other [kernels](https://www.kaggle.com/itsmohammadshahid/code?scroll=true).__"
      ]
    }
  ],
  "metadata": {
    "kernelspec": {
      "display_name": "Python 3",
      "language": "python",
      "name": "python3"
    },
    "language_info": {
      "codemirror_mode": {
        "name": "ipython",
        "version": 3
      },
      "file_extension": ".py",
      "mimetype": "text/x-python",
      "name": "python",
      "nbconvert_exporter": "python",
      "pygments_lexer": "ipython3",
      "version": "3.7.12"
    },
    "papermill": {
      "default_parameters": {},
      "duration": 26.121653,
      "end_time": "2022-09-25T16:04:02.416603",
      "environment_variables": {},
      "exception": null,
      "input_path": "__notebook__.ipynb",
      "output_path": "__notebook__.ipynb",
      "parameters": {},
      "start_time": "2022-09-25T16:03:36.294950",
      "version": "2.3.4"
    },
    "colab": {
      "provenance": []
    }
  },
  "nbformat": 4,
  "nbformat_minor": 5
}